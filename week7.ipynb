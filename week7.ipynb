{
  "nbformat": 4,
  "nbformat_minor": 0,
  "metadata": {
    "colab": {
      "name": "week7.ipynb",
      "provenance": [],
      "authorship_tag": "ABX9TyPZmZiek6L4RRVmYK8i+R7L",
      "include_colab_link": true
    },
    "kernelspec": {
      "name": "python3",
      "display_name": "Python 3"
    }
  },
  "cells": [
    {
      "cell_type": "markdown",
      "metadata": {
        "id": "view-in-github",
        "colab_type": "text"
      },
      "source": [
        "<a href=\"https://colab.research.google.com/github/Chyi-Liang/Computational-Thinking-and-Programming-Design/blob/master/week7.ipynb\" target=\"_parent\"><img src=\"https://colab.research.google.com/assets/colab-badge.svg\" alt=\"Open In Colab\"/></a>"
      ]
    },
    {
      "cell_type": "code",
      "metadata": {
        "id": "NCn4ppv3PNwO",
        "outputId": "0f510f47-0c74-4267-b043-03542e7ad087",
        "colab": {
          "base_uri": "https://localhost:8080/"
        }
      },
      "source": [
        "# 計算BMI指數, BMI公式\n",
        "## Input Data\n",
        "height = 216\n",
        "weight = 147\n",
        "## Process\n",
        "bmi = weight/(height/100)**2 # 將身高轉換為已公尺為單位\n",
        "# bmi1 = weight/height/100**2\n",
        "\n",
        "## Output\n",
        "print(bmi)"
      ],
      "execution_count": 3,
      "outputs": [
        {
          "output_type": "stream",
          "text": [
            "31.507201646090532\n"
          ],
          "name": "stdout"
        }
      ]
    },
    {
      "cell_type": "code",
      "metadata": {
        "id": "XMpwJJ92cBNI",
        "outputId": "51f2e3f2-12bb-4dd4-af61-b9a894c654d2",
        "colab": {
          "base_uri": "https://localhost:8080/"
        }
      },
      "source": [
        "magic_number = 733 % 20**2\n",
        "print(magic_number)"
      ],
      "execution_count": 6,
      "outputs": [
        {
          "output_type": "stream",
          "text": [
            "333\n"
          ],
          "name": "stdout"
        }
      ]
    }
  ]
}