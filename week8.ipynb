{
  "nbformat": 4,
  "nbformat_minor": 0,
  "metadata": {
    "colab": {
      "name": "week8.ipynb",
      "provenance": [],
      "authorship_tag": "ABX9TyOSizn2Yjr4NAdlRyRCCaAx",
      "include_colab_link": true
    },
    "kernelspec": {
      "name": "python3",
      "display_name": "Python 3"
    }
  },
  "cells": [
    {
      "cell_type": "markdown",
      "metadata": {
        "id": "view-in-github",
        "colab_type": "text"
      },
      "source": [
        "<a href=\"https://colab.research.google.com/github/Chyi-Liang/Computational-Thinking-and-Programming-Design/blob/master/week8.ipynb\" target=\"_parent\"><img src=\"https://colab.research.google.com/assets/colab-badge.svg\" alt=\"Open In Colab\"/></a>"
      ]
    },
    {
      "cell_type": "code",
      "metadata": {
        "id": "bn-GPfzYcQia",
        "outputId": "e8400588-dfc5-4a2e-9f21-3be2f79c4e52",
        "colab": {
          "base_uri": "https://localhost:8080/"
        }
      },
      "source": [
        "#範例:服裝訂購系統\n",
        "shirt_number = int(input('請問上衣訂購數量'))\n",
        "pants_number = int(input('請問褲子訂購數量'))\n",
        "vest_number = int(input('請問背心訂購數量'))"
      ],
      "execution_count": 16,
      "outputs": [
        {
          "output_type": "stream",
          "text": [
            "請問上衣訂購數量3\n",
            "請問褲子訂購數量2\n",
            "請問背心訂購數量4\n"
          ],
          "name": "stdout"
        }
      ]
    },
    {
      "cell_type": "code",
      "metadata": {
        "id": "FDWppoudhPVk",
        "outputId": "d02b6239-eeba-44bc-fb90-235419d663d9",
        "colab": {
          "base_uri": "https://localhost:8080/"
        }
      },
      "source": [
        "Total_dollar = shirt_number*300 + pants_number*350 + vest_number*400\n",
        "print('訂購服裝的總金額為',Total_dollar)"
      ],
      "execution_count": 17,
      "outputs": [
        {
          "output_type": "stream",
          "text": [
            "訂購服裝的總金額為 3200\n"
          ],
          "name": "stdout"
        }
      ]
    },
    {
      "cell_type": "code",
      "metadata": {
        "id": "71ep-USXkYCn",
        "outputId": "b186c7e0-744d-4535-f0de-8b849245d7c8",
        "colab": {
          "base_uri": "https://localhost:8080/"
        }
      },
      "source": [
        "#賣場買飲料\n",
        "drink_number = int(input('請輸入購買飲料的罐數'))"
      ],
      "execution_count": 19,
      "outputs": [
        {
          "output_type": "stream",
          "text": [
            "請輸入購買飲料的罐數30\n"
          ],
          "name": "stdout"
        }
      ]
    },
    {
      "cell_type": "code",
      "metadata": {
        "id": "SWojnRyUk_sr",
        "outputId": "dd3cb451-fa2b-43b0-866d-ef6e92fa5de3",
        "colab": {
          "base_uri": "https://localhost:8080/"
        }
      },
      "source": [
        "total_drink = (drink_number//12)*200 + (drink_number%12)*20\n",
        "print('需花費',total_drink)"
      ],
      "execution_count": 20,
      "outputs": [
        {
          "output_type": "stream",
          "text": [
            "需花費 520\n"
          ],
          "name": "stdout"
        }
      ]
    },
    {
      "cell_type": "code",
      "metadata": {
        "id": "U2VQxTuWlsBH",
        "outputId": "9f5fa48e-4be0-43cc-a6c6-bc4ad692f533",
        "colab": {
          "base_uri": "https://localhost:8080/"
        }
      },
      "source": [
        "#求三數總和與平均\n",
        "fir = int(input('請輸入第一次期中考成績'))\n",
        "sec = int(input('請輸入第二次期中考成績'))\n",
        "final = int(input('請輸入期末考成績'))"
      ],
      "execution_count": 21,
      "outputs": [
        {
          "output_type": "stream",
          "text": [
            "請輸入第一次期中考成績95\n",
            "請輸入第二次期中考成績86\n",
            "請輸入期末考成績90\n"
          ],
          "name": "stdout"
        }
      ]
    },
    {
      "cell_type": "code",
      "metadata": {
        "id": "1VA1uE7HmbrO",
        "outputId": "1283370e-c1fc-4197-8876-a194c1af11a5",
        "colab": {
          "base_uri": "https://localhost:8080/"
        }
      },
      "source": [
        "sum = fir + sec + final\n",
        "avg = sum/3\n",
        "\n",
        "print('總分為', sum, '平均為', avg)"
      ],
      "execution_count": 22,
      "outputs": [
        {
          "output_type": "stream",
          "text": [
            "總分為 271 平均為 90.33333333333333\n"
          ],
          "name": "stdout"
        }
      ]
    }
  ]
}